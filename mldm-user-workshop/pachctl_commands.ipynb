{
 "cells": [
  {
   "cell_type": "markdown",
   "id": "8d5d3b58-e0b5-4770-918e-87bf24e4aeed",
   "metadata": {},
   "source": [
    "# Install pachctl"
   ]
  },
  {
   "cell_type": "code",
   "execution_count": null,
   "id": "e6981d48-ee94-43c4-a670-790c330d788d",
   "metadata": {},
   "outputs": [],
   "source": [
    "!curl -L https://github.com/pachyderm/pachyderm/releases/download/v2.7.5/pachctl_2.7.5_linux_amd64.tar.gz | tar -xzv --strip-components=1 -C /usr/local/bin"
   ]
  },
  {
   "cell_type": "markdown",
   "id": "65b87f7f-6d8b-4b80-a97f-a2d705ab593b",
   "metadata": {},
   "source": [
    "# Connect to the cluster"
   ]
  },
  {
   "cell_type": "code",
   "execution_count": null,
   "id": "a1c91ae3-6604-4e92-b9bd-ae5f42c2dc81",
   "metadata": {},
   "outputs": [],
   "source": [
    "cluster_address = \"\"\n",
    "\n",
    "!pachctl connect $cluster_address\n",
    "!pachctl auth login"
   ]
  },
  {
   "cell_type": "markdown",
   "id": "869c755c-4c89-4f45-9dc9-b95446853463",
   "metadata": {},
   "source": [
    "Open the link in your browser and enter your credentials"
   ]
  },
  {
   "cell_type": "markdown",
   "id": "10a1302a-c3b7-4a9e-b379-39c5cd42e175",
   "metadata": {},
   "source": [
    "# Create your MLDM project"
   ]
  },
  {
   "cell_type": "code",
   "execution_count": null,
   "id": "4e3f1d47-cc71-4b03-b2b4-ac0fa191f857",
   "metadata": {},
   "outputs": [],
   "source": [
    "project_name = \"my_project\" # change your project name"
   ]
  },
  {
   "cell_type": "code",
   "execution_count": null,
   "id": "2f7fa380-72a5-42eb-8326-e3a22e64de38",
   "metadata": {},
   "outputs": [],
   "source": [
    "!pachctl create project $project_name"
   ]
  },
  {
   "cell_type": "code",
   "execution_count": null,
   "id": "25788c4a-f7c9-41fc-88ea-323e549638b3",
   "metadata": {},
   "outputs": [],
   "source": [
    "!pachctl list projects # default should be the active one"
   ]
  },
  {
   "cell_type": "markdown",
   "id": "27d1b26d-2be9-4375-a275-72c00bce548a",
   "metadata": {},
   "source": [
    "# Set the context to your project"
   ]
  },
  {
   "cell_type": "code",
   "execution_count": null,
   "id": "1743f9b4-6d78-4322-9936-9665d74a5b8a",
   "metadata": {},
   "outputs": [],
   "source": [
    "!pachctl config update context --project $project_name"
   ]
  },
  {
   "cell_type": "code",
   "execution_count": null,
   "id": "1fa13b5f-0b03-4a7f-aae4-e7d3d342d94f",
   "metadata": {},
   "outputs": [],
   "source": [
    "!pachctl list projects # your project should be the active one"
   ]
  },
  {
   "cell_type": "code",
   "execution_count": null,
   "id": "458fcdce-9e15-4216-a33b-9a6989c60e38",
   "metadata": {},
   "outputs": [],
   "source": [
    "!pachctl list repos # empty"
   ]
  },
  {
   "cell_type": "markdown",
   "id": "9a07bb38-5613-4e73-b85d-bc1da3448aa7",
   "metadata": {},
   "source": [
    "# Create the first repo and upload data"
   ]
  },
  {
   "cell_type": "code",
   "execution_count": null,
   "id": "330f1994-ca46-4230-aa02-39393b81f1dc",
   "metadata": {},
   "outputs": [],
   "source": [
    "!pachctl create repo raw_videos_and_images"
   ]
  },
  {
   "cell_type": "code",
   "execution_count": null,
   "id": "ac68cbeb-46e7-4fa3-ba81-fa5180764659",
   "metadata": {},
   "outputs": [],
   "source": [
    "!pachctl list repos # raw_videos_and_images repo should be listed here"
   ]
  },
  {
   "cell_type": "code",
   "execution_count": null,
   "id": "860f2ca5-14b6-492b-a832-1f49e4b0057c",
   "metadata": {},
   "outputs": [],
   "source": [
    "!pachctl put file raw_videos_and_images@master:liberty.png -f files/liberty.jpg\n",
    "!pachctl put file raw_videos_and_images@master:cat-sleeping.MOV -f files/cat-sleeping.MOV\n",
    "!pachctl put file raw_videos_and_images@master:robot.png -f files/robot.jpg\n",
    "!pachctl put file raw_videos_and_images@master:highway.MOV -f files/highway.MOV"
   ]
  },
  {
   "cell_type": "code",
   "execution_count": null,
   "id": "b5c0e6fc-89a2-4ea6-9868-2831da66e632",
   "metadata": {},
   "outputs": [],
   "source": [
    "!pachctl list files raw_videos_and_images@master"
   ]
  },
  {
   "cell_type": "markdown",
   "id": "16b8aaaf-84ad-4e0d-9e05-b706e61b5317",
   "metadata": {},
   "source": [
    "# Creating the video mp4 converter pipeline"
   ]
  },
  {
   "cell_type": "code",
   "execution_count": null,
   "id": "6c824c7e-edef-4331-ac07-b2024920e526",
   "metadata": {},
   "outputs": [],
   "source": [
    "!cat video_mp4_converter.yaml "
   ]
  },
  {
   "cell_type": "code",
   "execution_count": null,
   "id": "25458476-0a33-4d1b-9bcc-03c5ea844837",
   "metadata": {},
   "outputs": [],
   "source": [
    "!pachctl create pipeline -f video_mp4_converter.yaml"
   ]
  },
  {
   "cell_type": "markdown",
   "id": "1e5035eb-5acd-4c28-aed0-29b939a71924",
   "metadata": {},
   "source": [
    "# Datums and glob patterns"
   ]
  },
  {
   "cell_type": "code",
   "execution_count": null,
   "id": "ade4571a-bbc0-4e15-b26d-07faa1481e52",
   "metadata": {},
   "outputs": [],
   "source": [
    "# how many datums does the video mp4 converter pipeline see?\n",
    "!pachctl list datum -f video_mp4_converter.yaml"
   ]
  },
  {
   "cell_type": "code",
   "execution_count": null,
   "id": "1638aecf-17aa-4f46-9de5-736cda3b9346",
   "metadata": {},
   "outputs": [],
   "source": [
    "# what if its glob pattern was \"/\"?\n",
    "!pachctl glob file raw_videos_and_images@master:/"
   ]
  },
  {
   "cell_type": "code",
   "execution_count": null,
   "id": "104b4250-0c4f-4a05-822c-1ee3b2d4b717",
   "metadata": {},
   "outputs": [],
   "source": [
    "# what if its glob pattern was \"/*\"?\n",
    "!pachctl glob file raw_videos_and_images@master:/*"
   ]
  },
  {
   "cell_type": "code",
   "execution_count": null,
   "id": "ff13acee-72de-4801-b63a-3cee2fc31b1b",
   "metadata": {},
   "outputs": [],
   "source": [
    "# what if its glob pattern was \"/*.png\"?\n",
    "!pachctl glob file raw_videos_and_images@master:/*.png"
   ]
  },
  {
   "cell_type": "code",
   "execution_count": null,
   "id": "8be63b30-525e-4361-884c-72bd1bc01bdc",
   "metadata": {},
   "outputs": [],
   "source": [
    "# what if its glob pattern was \"/*.mp4\"?\n",
    "!pachctl glob file raw_videos_and_images@master:/*.mp4"
   ]
  },
  {
   "cell_type": "markdown",
   "id": "e5bc638d-3b5e-460f-8311-a4559c03a74c",
   "metadata": {},
   "source": [
    "# Updating the video mp4 converter pipeline"
   ]
  },
  {
   "cell_type": "markdown",
   "id": "58326c12-331c-48eb-87ec-973a97b8bda4",
   "metadata": {},
   "source": [
    "Edit __video_mp4_converter.yaml__ to only process .MOV files and then, update the pipeline with:"
   ]
  },
  {
   "cell_type": "code",
   "execution_count": null,
   "id": "49f5779c-55a9-4fa9-9577-ba8defc0ca75",
   "metadata": {},
   "outputs": [],
   "source": [
    "!pachctl update pipeline -f video_mp4_converter.yaml"
   ]
  },
  {
   "cell_type": "code",
   "execution_count": null,
   "id": "49bc6d56-c9ef-499a-857f-32aee4a39cc1",
   "metadata": {},
   "outputs": [],
   "source": [
    "!pachctl list job"
   ]
  },
  {
   "cell_type": "code",
   "execution_count": null,
   "id": "5945c055-17c7-4c2a-8ca3-52b2a2da0f4d",
   "metadata": {},
   "outputs": [],
   "source": [
    "!pachctl list commit # notice that some commit IDs will be identical to job IDs"
   ]
  },
  {
   "cell_type": "markdown",
   "id": "485a5efc-b8be-4dc6-bfb3-e7263b63347a",
   "metadata": {},
   "source": [
    "# Inspecting jobs, logs and pipeline spec"
   ]
  },
  {
   "cell_type": "code",
   "execution_count": null,
   "id": "513186e1-2ebe-400a-bf97-ab1ab5e6acb9",
   "metadata": {},
   "outputs": [],
   "source": [
    "!pachctl list pipeline --spec --output yaml # gives the entire list of pipelines, corresponds to the latest commit by default"
   ]
  },
  {
   "cell_type": "code",
   "execution_count": null,
   "id": "8f15bc65-5ab6-408b-921a-cbf9da1f7cfe",
   "metadata": {
    "tags": []
   },
   "outputs": [],
   "source": [
    "!pachctl inspect job video_mp4_converter@  # add a job id to inspect the job"
   ]
  },
  {
   "cell_type": "code",
   "execution_count": null,
   "id": "33fb0f85-16d9-4b5c-aa1a-5df11e3bf6f5",
   "metadata": {},
   "outputs": [],
   "source": [
    "!pachctl logs --pipeline video_mp4_converter # should be empty as datums were skipped when updating the pipeline spec"
   ]
  },
  {
   "cell_type": "code",
   "execution_count": null,
   "id": "96aa6a9f-9b6b-457e-af5b-13e7e2364ffa",
   "metadata": {
    "tags": []
   },
   "outputs": [],
   "source": [
    "!pachctl logs --job video_mp4_converter@  # add a job id to get logs from the job"
   ]
  },
  {
   "cell_type": "markdown",
   "id": "3da6e9bf-3f89-419b-83f8-5437df458c0c",
   "metadata": {},
   "source": [
    "# Updating the video mp4 converter pipeline and reprocess your datums"
   ]
  },
  {
   "cell_type": "code",
   "execution_count": null,
   "id": "7c5047b2-fb1a-4c15-a7b8-7153576f6152",
   "metadata": {},
   "outputs": [],
   "source": [
    "!pachctl update pipeline -f video_mp4_converter.yaml --reprocess"
   ]
  },
  {
   "cell_type": "markdown",
   "id": "f37a7d29-c417-401d-99f8-1a4cd422fc76",
   "metadata": {},
   "source": [
    "# Creating the image flattener pipeline"
   ]
  },
  {
   "cell_type": "code",
   "execution_count": null,
   "id": "76e26c94-bf5f-4a4d-a834-5f4caa39958b",
   "metadata": {},
   "outputs": [],
   "source": [
    "!cat image_flattener.yaml "
   ]
  },
  {
   "cell_type": "code",
   "execution_count": null,
   "id": "768c0879-3b20-4f55-b1ce-dd5d5bf7b1a0",
   "metadata": {},
   "outputs": [],
   "source": [
    "!pachctl create pipeline -f image_flattener.yaml"
   ]
  },
  {
   "cell_type": "code",
   "execution_count": null,
   "id": "a2e3b6a1-8607-4e46-857f-29728a02b40e",
   "metadata": {},
   "outputs": [],
   "source": [
    "!pachctl list pipeline --spec --output yaml"
   ]
  },
  {
   "cell_type": "markdown",
   "id": "3dc3b061-6a23-4728-a99e-696555260948",
   "metadata": {},
   "source": [
    "# Create the image tracer pipeline"
   ]
  },
  {
   "cell_type": "code",
   "execution_count": null,
   "id": "094089c2-3adb-4b90-af6d-8358139b3b7c",
   "metadata": {},
   "outputs": [],
   "source": [
    "!cat image_tracer.yaml"
   ]
  },
  {
   "cell_type": "code",
   "execution_count": null,
   "id": "1f0bb40b-cc58-4ab8-846e-aee6df8afed8",
   "metadata": {},
   "outputs": [],
   "source": [
    "!pachctl create pipeline -f image_tracer.yaml"
   ]
  },
  {
   "cell_type": "markdown",
   "id": "d29993a6-182b-448d-8158-bfc695e3252c",
   "metadata": {},
   "source": [
    "# Create the movie gifer pipeline"
   ]
  },
  {
   "cell_type": "code",
   "execution_count": null,
   "id": "fac0e0d1-2211-4b49-8c44-74a7a7ea6735",
   "metadata": {},
   "outputs": [],
   "source": [
    "!cat movie_gifer.yaml"
   ]
  },
  {
   "cell_type": "code",
   "execution_count": null,
   "id": "2579dc79-4f04-4e43-a185-d592a16b7a9f",
   "metadata": {},
   "outputs": [],
   "source": [
    "!pachctl create pipeline -f movie_gifer.yaml # will take a few minutes to run"
   ]
  },
  {
   "cell_type": "markdown",
   "id": "b4ef10be-2eaa-40eb-9323-8a0f1c55ea45",
   "metadata": {},
   "source": [
    "# Create the content shuffler pipeline"
   ]
  },
  {
   "cell_type": "code",
   "execution_count": null,
   "id": "554f405a-5acb-4721-ac43-10f32f0471d3",
   "metadata": {},
   "outputs": [],
   "source": [
    "!cat content_shuffler.yaml"
   ]
  },
  {
   "cell_type": "code",
   "execution_count": null,
   "id": "5c61938d-59ff-4906-abc2-fc59d3efed8e",
   "metadata": {},
   "outputs": [],
   "source": [
    "!pachctl create pipeline -f content_shuffler.yaml"
   ]
  },
  {
   "cell_type": "markdown",
   "id": "28ef2487-1aa5-4beb-be2e-b9829cf3f60b",
   "metadata": {},
   "source": [
    "# Create the content collager pipeline"
   ]
  },
  {
   "cell_type": "code",
   "execution_count": null,
   "id": "e753b146-fc5a-4967-944f-2a9edf2d9698",
   "metadata": {},
   "outputs": [],
   "source": [
    "!cat content_collager.yaml"
   ]
  },
  {
   "cell_type": "code",
   "execution_count": null,
   "id": "88bb7130-6677-43dc-bd47-cde6562e9e40",
   "metadata": {},
   "outputs": [],
   "source": [
    "!pachctl create pipeline -f content_collager.yaml"
   ]
  },
  {
   "cell_type": "markdown",
   "id": "535d3d79-844a-4b68-b502-c3d66192bec8",
   "metadata": {},
   "source": [
    "# Create the apache server pipeline"
   ]
  },
  {
   "cell_type": "code",
   "execution_count": null,
   "id": "43e6a8f0-e628-414e-9bf3-3ab962561c19",
   "metadata": {},
   "outputs": [],
   "source": [
    "!cat apache_server.yaml"
   ]
  },
  {
   "cell_type": "code",
   "execution_count": null,
   "id": "4267f1ec-3edd-42d4-8639-3b8490aba785",
   "metadata": {},
   "outputs": [],
   "source": [
    "!pachctl create pipeline -f apache_server.yaml"
   ]
  },
  {
   "cell_type": "markdown",
   "id": "b2de4be1-0b19-4ce4-b3ec-8e3d692f6eb7",
   "metadata": {},
   "source": [
    "# Branches"
   ]
  },
  {
   "cell_type": "markdown",
   "id": "4fabd971-252e-4d7a-b694-cd2ced422241",
   "metadata": {},
   "source": [
    "## Create a new branch, and have it identical to master"
   ]
  },
  {
   "cell_type": "code",
   "execution_count": null,
   "id": "d09a1a88-a774-4921-aab6-6b8ff798371a",
   "metadata": {},
   "outputs": [],
   "source": [
    "!pachctl list branch raw_videos_and_images"
   ]
  },
  {
   "cell_type": "code",
   "execution_count": null,
   "id": "28a00440-5a78-44f4-b62a-089a8992dfd7",
   "metadata": {},
   "outputs": [],
   "source": [
    "!pachctl create branch raw_videos_and_images@new-branch # empty branch"
   ]
  },
  {
   "cell_type": "code",
   "execution_count": null,
   "id": "2ed9ba44-5d3a-49fe-840f-d1089a35f651",
   "metadata": {},
   "outputs": [],
   "source": [
    "!pachctl list branch raw_videos_and_images"
   ]
  },
  {
   "cell_type": "code",
   "execution_count": null,
   "id": "c8b8e5c2-16de-4425-921c-9289f6ec8da1",
   "metadata": {},
   "outputs": [],
   "source": [
    "!pachctl create branch raw_videos_and_images@new-branch --head raw_videos_and_images@master # new-branch will be identical to master"
   ]
  },
  {
   "cell_type": "code",
   "execution_count": null,
   "id": "cddc6d29-8fc3-44a5-8e83-e8f61b4d0b93",
   "metadata": {},
   "outputs": [],
   "source": [
    "!pachctl list branch raw_videos_and_images"
   ]
  },
  {
   "cell_type": "markdown",
   "id": "0c960c4a-8cb9-4fec-a424-2c4615e2422b",
   "metadata": {},
   "source": [
    "## Update the new branch"
   ]
  },
  {
   "cell_type": "code",
   "execution_count": null,
   "id": "565f6167-9c94-497a-bcc9-b6d66c6c5562",
   "metadata": {},
   "outputs": [],
   "source": [
    "!pachctl put file raw_videos_and_images@new-branch:robot1.png -f \"files/robot(1).jpg\""
   ]
  },
  {
   "cell_type": "markdown",
   "id": "2a729432-4592-4b8e-b2f2-7b9655bf18a2",
   "metadata": {},
   "source": [
    "## Create a pipeline independent from master"
   ]
  },
  {
   "cell_type": "code",
   "execution_count": null,
   "id": "c4a55a00-f94f-42a4-b834-bbf0269a658b",
   "metadata": {},
   "outputs": [],
   "source": [
    "!cat new-branch_image_tracer.yaml"
   ]
  },
  {
   "cell_type": "code",
   "execution_count": null,
   "id": "7d99522a-66e5-4244-a063-a124b0b5b012",
   "metadata": {},
   "outputs": [],
   "source": [
    "!pachctl create pipeline -f new-branch_image_tracer.yaml"
   ]
  },
  {
   "cell_type": "markdown",
   "id": "b6c15d40-9e04-4ec7-9574-42356cbbc81e",
   "metadata": {},
   "source": [
    "## Update the master branch using the new branch"
   ]
  },
  {
   "cell_type": "code",
   "execution_count": null,
   "id": "8a9b65ff-8639-4e60-8736-c5e14f54c329",
   "metadata": {},
   "outputs": [],
   "source": [
    "!pachctl create branch raw_videos_and_images@master --head raw_videos_and_images@new-branch"
   ]
  },
  {
   "cell_type": "markdown",
   "id": "36d0d81e-1be5-4fd4-bfd9-4a67448985a6",
   "metadata": {},
   "source": [
    "## Roll back the master branch"
   ]
  },
  {
   "cell_type": "code",
   "execution_count": null,
   "id": "803f056f-8a8d-4b48-b4f4-3e65b1f59f15",
   "metadata": {},
   "outputs": [],
   "source": [
    "!pachctl create branch raw_videos_and_images@master --head raw_videos_and_images@master^"
   ]
  },
  {
   "cell_type": "code",
   "execution_count": null,
   "id": "0fb1e7b6-f6c3-4ad0-a195-aa09666a9ced",
   "metadata": {},
   "outputs": [],
   "source": [
    "!pachctl delete pipeline new-branch_image_tracer\n",
    "!pachctl delete branch raw_videos_and_images@new-branch"
   ]
  },
  {
   "cell_type": "markdown",
   "id": "ce34b371-9a96-44ec-a795-b78e03fffef4",
   "metadata": {},
   "source": [
    "# Triggers"
   ]
  },
  {
   "cell_type": "markdown",
   "id": "a6601147-843c-44a8-9791-6879ee0caa30",
   "metadata": {},
   "source": [
    "## Create a trigger"
   ]
  },
  {
   "cell_type": "code",
   "execution_count": null,
   "id": "8826b1fb-b08b-40ab-ad25-94570a2b2ed4",
   "metadata": {},
   "outputs": [],
   "source": [
    "!pachctl create branch raw_videos_and_images@staging --head master"
   ]
  },
  {
   "cell_type": "code",
   "execution_count": null,
   "id": "3af4f8f3-d74b-432b-a5cb-045b1a6aa30a",
   "metadata": {},
   "outputs": [],
   "source": [
    "!pachctl list branch raw_videos_and_images"
   ]
  },
  {
   "cell_type": "code",
   "execution_count": null,
   "id": "41a37f5a-3d6f-4255-acf9-5600fda76940",
   "metadata": {},
   "outputs": [],
   "source": [
    "!pachctl create branch raw_videos_and_images@master --trigger staging --trigger-commits=3"
   ]
  },
  {
   "cell_type": "code",
   "execution_count": null,
   "id": "1005bbfb-dc18-4317-b041-14cb5e986c28",
   "metadata": {},
   "outputs": [],
   "source": [
    "!pachctl list branch raw_videos_and_images"
   ]
  },
  {
   "cell_type": "markdown",
   "id": "3a422494-5ac6-4b47-ae96-1a77dc6e7dd1",
   "metadata": {},
   "source": [
    "## Test the trigger"
   ]
  },
  {
   "cell_type": "code",
   "execution_count": null,
   "id": "b01f367d-c101-480d-953c-6bcb3d74332b",
   "metadata": {},
   "outputs": [],
   "source": [
    "!pachctl put file raw_videos_and_images@staging:robot1.png -f \"files/robot(1).jpg\""
   ]
  },
  {
   "cell_type": "code",
   "execution_count": null,
   "id": "f79c9510-50ba-472a-8f0f-291ee95c01bf",
   "metadata": {},
   "outputs": [],
   "source": [
    "!pachctl put file raw_videos_and_images@staging:robot2.png -f \"files/robot(2).jpg\""
   ]
  },
  {
   "cell_type": "code",
   "execution_count": null,
   "id": "cad93592-f9db-4bc7-a27f-21e2c5d9a185",
   "metadata": {},
   "outputs": [],
   "source": [
    "!pachctl put file raw_videos_and_images@staging:robot3.png -f \"files/robot(3).jpg\""
   ]
  },
  {
   "cell_type": "markdown",
   "id": "2e545234-02ee-4543-ae65-7fcd80e5df74",
   "metadata": {},
   "source": [
    "# Pachyderm SDK"
   ]
  },
  {
   "cell_type": "markdown",
   "id": "53165fb2-e770-4f7d-bfc1-acbffff42520",
   "metadata": {},
   "source": [
    "## Install the Pachyderm SDK"
   ]
  },
  {
   "cell_type": "code",
   "execution_count": null,
   "id": "87b38b8a-e508-464c-9f4d-2e0a37d17459",
   "metadata": {},
   "outputs": [],
   "source": [
    "!pip install pachyderm_sdk"
   ]
  },
  {
   "cell_type": "markdown",
   "id": "a4897f83-e081-4ce3-8a6c-3ee04137e5a5",
   "metadata": {},
   "source": [
    "## Connect to the cluster"
   ]
  },
  {
   "cell_type": "code",
   "execution_count": null,
   "id": "0d2709bc-b444-4d2b-a3bd-4757f46e2765",
   "metadata": {},
   "outputs": [],
   "source": [
    "import pachyderm_sdk\n",
    "from pachyderm_sdk.api import pfs, pps\n",
    "from pachyderm_sdk.api.pfs import File, FileType"
   ]
  },
  {
   "cell_type": "code",
   "execution_count": null,
   "id": "607351ee-9967-475d-b843-9fe0f3d3d768",
   "metadata": {},
   "outputs": [],
   "source": [
    "client = pachyderm_sdk.Client.from_config()"
   ]
  },
  {
   "cell_type": "code",
   "execution_count": null,
   "id": "d0a77083-4146-4395-a38b-fba754770064",
   "metadata": {},
   "outputs": [],
   "source": [
    "version = client.get_version()\n",
    "print(version)"
   ]
  },
  {
   "cell_type": "markdown",
   "id": "8789963f-b9fc-4843-87e6-98edf291e929",
   "metadata": {},
   "source": [
    "## List files from a repo"
   ]
  },
  {
   "cell_type": "code",
   "execution_count": null,
   "id": "35c0aa8b-7c88-40f5-b11f-e210cac79bda",
   "metadata": {},
   "outputs": [],
   "source": [
    "repo = \"raw_videos_and_images\"\n",
    "branch = \"master\"\n",
    "\n",
    "for file_info in client.pfs.walk_file(file=File.from_uri(f\"{project_name}/{repo}@{branch}\")):\n",
    "    f_path = file_info.file.path\n",
    "    print(f_path)"
   ]
  },
  {
   "cell_type": "markdown",
   "id": "c77b73e8-db28-457b-9541-d7c7047167bb",
   "metadata": {},
   "source": [
    "## Create a repo"
   ]
  },
  {
   "cell_type": "code",
   "execution_count": null,
   "id": "173b4020-33da-4c0c-adbb-782d79b15226",
   "metadata": {},
   "outputs": [],
   "source": [
    "project = pfs.Project(name=project_name)\n",
    "repo = pfs.Repo(name=\"sdk_repo\", project=project)\n",
    "branch = pfs.Branch.from_uri(f\"{repo}@master\")\n",
    "\n",
    "try:\n",
    "    client.pfs.create_repo(repo=repo, description=\"my first sdk-created repo\")\n",
    "    print(\"Repo creation successful.\")\n",
    "except Exception as e:\n",
    "    print(\"Error creating project or repo:\", e)\n",
    "    exit(1)"
   ]
  },
  {
   "cell_type": "markdown",
   "id": "8c5ed7d1-72f2-40c3-9f76-624e37c4bbeb",
   "metadata": {},
   "source": [
    "## Create a commit"
   ]
  },
  {
   "cell_type": "code",
   "execution_count": null,
   "id": "514f90aa-d090-40c2-ae83-b5d1e6cbef16",
   "metadata": {},
   "outputs": [],
   "source": [
    "try:\n",
    "    with client.pfs.commit(branch=branch) as commit:\n",
    "        with open(\"files/liberty.jpg\", \"rb\") as source:\n",
    "            commit.put_file_from_file(path=\"/liberty.png\", file=source)\n",
    "    print(\"Data loaded into the repo as a commit.\")\n",
    "except Exception as e:\n",
    "    print(\"Error loading data into the repo:\", e)\n",
    "    exit(1)"
   ]
  },
  {
   "cell_type": "markdown",
   "id": "fc0520e5-0a15-4631-8da4-cd8532715d8a",
   "metadata": {},
   "source": [
    "## Create a pipeline"
   ]
  },
  {
   "cell_type": "code",
   "execution_count": null,
   "id": "b00e9c58-8fc6-4cd0-8a4f-55663cc628fd",
   "metadata": {},
   "outputs": [],
   "source": [
    "try:\n",
    "    input = pps.Input(pfs=pps.PfsInput(project=project.name, branch=\"master\", repo=repo.name, glob=\"/*\"))\n",
    "    transform = pps.Transform(\n",
    "        image=\"lbliii/image_tracer:1.0.8\", \n",
    "        cmd=[\"python3\", \"/image_tracer.py\", \n",
    "             \"--input\", \"/pfs/sdk_repo\",\n",
    "             \"--output\", \"/pfs/out/\"]\n",
    "    )\n",
    "\n",
    "    pipeline = pps.Pipeline(name=\"sdk_image_tracer\", project=project)\n",
    "\n",
    "    client.pps.create_pipeline(pipeline=pipeline, input=input, transform=transform)\n",
    "    print(\"Pipeline created successfully.\")\n",
    "except Exception as e:\n",
    "    print(\"Error creating the pipeline:\", e)\n",
    "    exit(1)"
   ]
  },
  {
   "cell_type": "markdown",
   "id": "47eee970-2623-49f1-af71-d3f9ebe7ec4e",
   "metadata": {},
   "source": [
    "## Delete pipeline and repo"
   ]
  },
  {
   "cell_type": "code",
   "execution_count": null,
   "id": "d48e2fac-ec39-4d96-beed-8169397978ce",
   "metadata": {},
   "outputs": [],
   "source": [
    "client.pps.delete_pipeline(pipeline=pipeline)"
   ]
  },
  {
   "cell_type": "code",
   "execution_count": null,
   "id": "4a1ba54b-b0c4-472f-9c96-0b5b649288a2",
   "metadata": {},
   "outputs": [],
   "source": [
    "client.pfs.delete_repo(repo=repo)"
   ]
  }
 ],
 "metadata": {
  "kernelspec": {
   "display_name": "Python 3 (ipykernel)",
   "language": "python",
   "name": "python3"
  },
  "language_info": {
   "codemirror_mode": {
    "name": "ipython",
    "version": 3
   },
   "file_extension": ".py",
   "mimetype": "text/x-python",
   "name": "python",
   "nbconvert_exporter": "python",
   "pygments_lexer": "ipython3",
   "version": "3.8.17"
  }
 },
 "nbformat": 4,
 "nbformat_minor": 5
}
